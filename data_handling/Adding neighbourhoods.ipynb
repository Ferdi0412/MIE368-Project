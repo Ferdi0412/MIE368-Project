{
 "cells": [
  {
   "cell_type": "code",
   "execution_count": 1,
   "id": "00e0fecb",
   "metadata": {},
   "outputs": [],
   "source": [
    "import pandas\n",
    "import geopandas\n",
    "\n",
    "import os, sys\n",
    "sys.path.append(os.path.abspath(''))\n",
    "\n",
    "from functions import get_raw_path, get_data_path, store_context_data, open_geopandas_csv,\\\n",
    "                      add_neighbourhood_column, print_df_columns, open_geopandas_csv, geom_dict_to_shape,\\\n",
    "                      get_neighbourhoods, get_gdf_using_geom_dict\n",
    "import functions\n",
    "\n",
    "import re\n",
    "\n",
    "import numpy as np"
   ]
  },
  {
   "cell_type": "code",
   "execution_count": null,
   "id": "ed93e82a",
   "metadata": {},
   "outputs": [],
   "source": [
    "raise Exception(\"Do not run all cells! -> This will overwrite the pre-reformated data!\")"
   ]
  },
  {
   "cell_type": "markdown",
   "id": "258cc654",
   "metadata": {},
   "source": [
    "# Traffic Volumes"
   ]
  },
  {
   "cell_type": "code",
   "execution_count": null,
   "id": "da8f37a1",
   "metadata": {},
   "outputs": [],
   "source": [
    "FILE_NAME = 'raw-data-2010-2019.csv'\n",
    "\n",
    "STORE_NAME = 'Traffic Volumes.csv'\n",
    "\n",
    "df = pandas.read_csv(get_raw_path(FILE_NAME))\n",
    "\n",
    "# df.head()"
   ]
  },
  {
   "cell_type": "markdown",
   "id": "863d5fe1",
   "metadata": {},
   "source": [
    "The coordinates are stored in columns 'lng' and 'lat'"
   ]
  },
  {
   "cell_type": "code",
   "execution_count": null,
   "id": "a1fe6df9",
   "metadata": {},
   "outputs": [],
   "source": [
    "gdf = geopandas.GeoDataFrame(df.drop(['lng', 'lat'], axis=1), geometry=geopandas.points_from_xy(df['lng'], df['lat']))\n",
    "gdf.crs = functions.CRS"
   ]
  },
  {
   "cell_type": "code",
   "execution_count": null,
   "id": "c1b83eb4",
   "metadata": {},
   "outputs": [],
   "source": [
    "gdf = add_neighbourhood_column(gdf)"
   ]
  },
  {
   "cell_type": "code",
   "execution_count": null,
   "id": "9bb33a9a",
   "metadata": {},
   "outputs": [],
   "source": [
    "gdf.head()"
   ]
  },
  {
   "cell_type": "code",
   "execution_count": null,
   "id": "df875b50",
   "metadata": {},
   "outputs": [],
   "source": [
    "gdf['Neighbourhood'].isna().sum()"
   ]
  },
  {
   "cell_type": "code",
   "execution_count": null,
   "id": "b6ef65b5",
   "metadata": {},
   "outputs": [],
   "source": [
    "store_context_data(gdf, STORE_NAME)"
   ]
  },
  {
   "cell_type": "code",
   "execution_count": null,
   "id": "853e51d6",
   "metadata": {},
   "outputs": [],
   "source": [
    "gdf = open_geopandas_csv(get_data_path(STORE_NAME))\n",
    "\n",
    "gdf.head()\n",
    "\n",
    "# gdf.loc[:100].explore()"
   ]
  },
  {
   "cell_type": "markdown",
   "id": "2c35f14e",
   "metadata": {},
   "source": [
    "# Centrelines\n",
    "Because this consists of lines, we use 'intersects' predicate over 'within' to match it.\n",
    "\n",
    "Therefore an additional columns are added:\n",
    "\n",
    "- NeighbourhoodPortion (the portion of the MultiLineString's full length that lies within the neighbourhood)"
   ]
  },
  {
   "cell_type": "code",
   "execution_count": null,
   "id": "ead3a79d",
   "metadata": {},
   "outputs": [],
   "source": [
    "FILE_NAME  = \"Centreline - Version 2 - 4326.csv\"\n",
    "STORE_NAME = \"Centrelines.csv\"\n",
    "\n",
    "df = pandas.read_csv(get_raw_path(FILE_NAME))\n",
    "\n",
    "df.head()"
   ]
  },
  {
   "cell_type": "code",
   "execution_count": null,
   "id": "083544c0",
   "metadata": {},
   "outputs": [],
   "source": [
    "gdf = get_gdf_using_geom_dict(df)"
   ]
  },
  {
   "cell_type": "code",
   "execution_count": null,
   "id": "45819734",
   "metadata": {},
   "outputs": [],
   "source": [
    "## Get the neighbourhood dataset\n",
    "neighbourhood = get_neighbourhoods()\n",
    "\n",
    "print(\"Joining...\")\n",
    "## Merge the gdf with the neighbourhood stuff\n",
    "joined = geopandas.sjoin(gdf.to_crs(functions.CRS), neighbourhood.to_crs(functions.CRS), how='inner', predicate='within').to_crs(epsg = functions.EPSG)\n",
    "\n",
    "print(\"Filtering rows...\")\n",
    "## Filter out any un-matched columns\n",
    "gdf = gdf.loc[joined.index]\n",
    "\n",
    "print(\"Calculating NeighbourhoodPortions\")\n",
    "## Add the 'NeighbourhoodPortion' column\n",
    "geometry_right = neighbourhood.to_crs(epsg=functions.EPSG).loc[joined['index_right']].set_index(joined.index)\n",
    "numerator = np.array(joined.geometry.intersection(geometry_right).length)\n",
    "denomenator = np.array(joined.geometry.length)\n",
    "gdf['NeighbourhoodPortion'] =  numerator / denomenator \n",
    "\n",
    "print(\"Assigning Neighbourhood\")\n",
    "## Add the Neighbourhood column\n",
    "gdf['Neighbourhood'] = joined['index_right']\n",
    "\n",
    "## Drop where they are right on the border, and not inside... so NeighbourhoodPortion is 0\n",
    "gdf = gdf.loc[gdf['NeighbourhoodPortion'] != 0]"
   ]
  },
  {
   "cell_type": "code",
   "execution_count": null,
   "id": "e7abd5c9",
   "metadata": {},
   "outputs": [],
   "source": [
    "store_context_data(gdf, STORE_NAME)"
   ]
  },
  {
   "cell_type": "markdown",
   "id": "a8a4723f",
   "metadata": {},
   "source": [
    "# Intersections\n",
    "Some intersections lie on the border between neighbourhoods, so an additional field is added:\n",
    "- SingleNeighbourhood: 1 if point lies entirely within a single neighbourhood"
   ]
  },
  {
   "cell_type": "code",
   "execution_count": 31,
   "id": "fd546440",
   "metadata": {},
   "outputs": [
    {
     "data": {
      "text/html": [
       "<div>\n",
       "<style scoped>\n",
       "    .dataframe tbody tr th:only-of-type {\n",
       "        vertical-align: middle;\n",
       "    }\n",
       "\n",
       "    .dataframe tbody tr th {\n",
       "        vertical-align: top;\n",
       "    }\n",
       "\n",
       "    .dataframe thead th {\n",
       "        text-align: right;\n",
       "    }\n",
       "</style>\n",
       "<table border=\"1\" class=\"dataframe\">\n",
       "  <thead>\n",
       "    <tr style=\"text-align: right;\">\n",
       "      <th></th>\n",
       "      <th>_id</th>\n",
       "      <th>INTERSECTION_ID</th>\n",
       "      <th>DATE_EFFECTIVE</th>\n",
       "      <th>DATE_EXPIRY</th>\n",
       "      <th>ELEVATION_ID</th>\n",
       "      <th>INTERSECTION_DESC</th>\n",
       "      <th>CLASSIFICATION</th>\n",
       "      <th>CLASSIFICATION_DESC</th>\n",
       "      <th>NUMBER_OF_ELEVATIONS</th>\n",
       "      <th>ELEVATION_FEATURE_CODE</th>\n",
       "      <th>...</th>\n",
       "      <th>ELEVATION_LEVEL</th>\n",
       "      <th>ELEVATION</th>\n",
       "      <th>ELEVATION_UNIT</th>\n",
       "      <th>HEIGHT_RESTRICTION</th>\n",
       "      <th>HEIGHT_RESTRICTION_UNIT</th>\n",
       "      <th>STATE</th>\n",
       "      <th>TRANS_ID_CREATE</th>\n",
       "      <th>TRANS_ID_EXPIRE</th>\n",
       "      <th>OBJECTID</th>\n",
       "      <th>geometry</th>\n",
       "    </tr>\n",
       "  </thead>\n",
       "  <tbody>\n",
       "    <tr>\n",
       "      <th>0</th>\n",
       "      <td>1</td>\n",
       "      <td>13470264</td>\n",
       "      <td>NaN</td>\n",
       "      <td>NaN</td>\n",
       "      <td>13</td>\n",
       "      <td>Robindale Ave / Rimilton Ave</td>\n",
       "      <td>MNRSL</td>\n",
       "      <td>Minor-Single Level</td>\n",
       "      <td>1</td>\n",
       "      <td>501300.0</td>\n",
       "      <td>...</td>\n",
       "      <td>0</td>\n",
       "      <td>NaN</td>\n",
       "      <td>NaN</td>\n",
       "      <td>NaN</td>\n",
       "      <td>NaN</td>\n",
       "      <td>8</td>\n",
       "      <td>200000</td>\n",
       "      <td>-1</td>\n",
       "      <td>1</td>\n",
       "      <td>{'type': 'MultiPoint', 'coordinates': [[-79.53...</td>\n",
       "    </tr>\n",
       "    <tr>\n",
       "      <th>1</th>\n",
       "      <td>2</td>\n",
       "      <td>13470193</td>\n",
       "      <td>NaN</td>\n",
       "      <td>NaN</td>\n",
       "      <td>4718</td>\n",
       "      <td>Bellman Ave / Valermo Dr</td>\n",
       "      <td>MNRSL</td>\n",
       "      <td>Minor-Single Level</td>\n",
       "      <td>1</td>\n",
       "      <td>501300.0</td>\n",
       "      <td>...</td>\n",
       "      <td>0</td>\n",
       "      <td>NaN</td>\n",
       "      <td>NaN</td>\n",
       "      <td>NaN</td>\n",
       "      <td>NaN</td>\n",
       "      <td>8</td>\n",
       "      <td>200000</td>\n",
       "      <td>-1</td>\n",
       "      <td>4</td>\n",
       "      <td>{'type': 'MultiPoint', 'coordinates': [[-79.53...</td>\n",
       "    </tr>\n",
       "    <tr>\n",
       "      <th>2</th>\n",
       "      <td>3</td>\n",
       "      <td>13470188</td>\n",
       "      <td>NaN</td>\n",
       "      <td>NaN</td>\n",
       "      <td>32728</td>\n",
       "      <td>Rimilton Ave / Valermo Dr</td>\n",
       "      <td>SEUSL</td>\n",
       "      <td>Pseudo Intersection-Single Level</td>\n",
       "      <td>1</td>\n",
       "      <td>509200.0</td>\n",
       "      <td>...</td>\n",
       "      <td>0</td>\n",
       "      <td>NaN</td>\n",
       "      <td>NaN</td>\n",
       "      <td>NaN</td>\n",
       "      <td>NaN</td>\n",
       "      <td>8</td>\n",
       "      <td>200000</td>\n",
       "      <td>-1</td>\n",
       "      <td>5</td>\n",
       "      <td>{'type': 'MultiPoint', 'coordinates': [[-79.53...</td>\n",
       "    </tr>\n",
       "    <tr>\n",
       "      <th>3</th>\n",
       "      <td>4</td>\n",
       "      <td>13470203</td>\n",
       "      <td>NaN</td>\n",
       "      <td>NaN</td>\n",
       "      <td>21669</td>\n",
       "      <td>Valermo Dr / Goa Crt</td>\n",
       "      <td>MNRSL</td>\n",
       "      <td>Minor-Single Level</td>\n",
       "      <td>1</td>\n",
       "      <td>501300.0</td>\n",
       "      <td>...</td>\n",
       "      <td>0</td>\n",
       "      <td>NaN</td>\n",
       "      <td>NaN</td>\n",
       "      <td>NaN</td>\n",
       "      <td>NaN</td>\n",
       "      <td>8</td>\n",
       "      <td>200000</td>\n",
       "      <td>-1</td>\n",
       "      <td>7</td>\n",
       "      <td>{'type': 'MultiPoint', 'coordinates': [[-79.53...</td>\n",
       "    </tr>\n",
       "    <tr>\n",
       "      <th>4</th>\n",
       "      <td>5</td>\n",
       "      <td>13470228</td>\n",
       "      <td>NaN</td>\n",
       "      <td>NaN</td>\n",
       "      <td>36820</td>\n",
       "      <td>Valermo Dr / Thirtieth St</td>\n",
       "      <td>MNRSL</td>\n",
       "      <td>Minor-Single Level</td>\n",
       "      <td>1</td>\n",
       "      <td>501300.0</td>\n",
       "      <td>...</td>\n",
       "      <td>0</td>\n",
       "      <td>NaN</td>\n",
       "      <td>NaN</td>\n",
       "      <td>NaN</td>\n",
       "      <td>NaN</td>\n",
       "      <td>8</td>\n",
       "      <td>200000</td>\n",
       "      <td>-1</td>\n",
       "      <td>9</td>\n",
       "      <td>{'type': 'MultiPoint', 'coordinates': [[-79.53...</td>\n",
       "    </tr>\n",
       "  </tbody>\n",
       "</table>\n",
       "<p>5 rows × 21 columns</p>\n",
       "</div>"
      ],
      "text/plain": [
       "   _id  INTERSECTION_ID DATE_EFFECTIVE  DATE_EXPIRY  ELEVATION_ID  \\\n",
       "0    1         13470264            NaN          NaN            13   \n",
       "1    2         13470193            NaN          NaN          4718   \n",
       "2    3         13470188            NaN          NaN         32728   \n",
       "3    4         13470203            NaN          NaN         21669   \n",
       "4    5         13470228            NaN          NaN         36820   \n",
       "\n",
       "              INTERSECTION_DESC CLASSIFICATION  \\\n",
       "0  Robindale Ave / Rimilton Ave          MNRSL   \n",
       "1      Bellman Ave / Valermo Dr          MNRSL   \n",
       "2     Rimilton Ave / Valermo Dr          SEUSL   \n",
       "3          Valermo Dr / Goa Crt          MNRSL   \n",
       "4     Valermo Dr / Thirtieth St          MNRSL   \n",
       "\n",
       "                CLASSIFICATION_DESC  NUMBER_OF_ELEVATIONS  \\\n",
       "0                Minor-Single Level                     1   \n",
       "1                Minor-Single Level                     1   \n",
       "2  Pseudo Intersection-Single Level                     1   \n",
       "3                Minor-Single Level                     1   \n",
       "4                Minor-Single Level                     1   \n",
       "\n",
       "   ELEVATION_FEATURE_CODE  ... ELEVATION_LEVEL  ELEVATION  ELEVATION_UNIT  \\\n",
       "0                501300.0  ...               0        NaN             NaN   \n",
       "1                501300.0  ...               0        NaN             NaN   \n",
       "2                509200.0  ...               0        NaN             NaN   \n",
       "3                501300.0  ...               0        NaN             NaN   \n",
       "4                501300.0  ...               0        NaN             NaN   \n",
       "\n",
       "  HEIGHT_RESTRICTION  HEIGHT_RESTRICTION_UNIT STATE  TRANS_ID_CREATE  \\\n",
       "0                NaN                      NaN     8           200000   \n",
       "1                NaN                      NaN     8           200000   \n",
       "2                NaN                      NaN     8           200000   \n",
       "3                NaN                      NaN     8           200000   \n",
       "4                NaN                      NaN     8           200000   \n",
       "\n",
       "   TRANS_ID_EXPIRE  OBJECTID  \\\n",
       "0               -1         1   \n",
       "1               -1         4   \n",
       "2               -1         5   \n",
       "3               -1         7   \n",
       "4               -1         9   \n",
       "\n",
       "                                            geometry  \n",
       "0  {'type': 'MultiPoint', 'coordinates': [[-79.53...  \n",
       "1  {'type': 'MultiPoint', 'coordinates': [[-79.53...  \n",
       "2  {'type': 'MultiPoint', 'coordinates': [[-79.53...  \n",
       "3  {'type': 'MultiPoint', 'coordinates': [[-79.53...  \n",
       "4  {'type': 'MultiPoint', 'coordinates': [[-79.53...  \n",
       "\n",
       "[5 rows x 21 columns]"
      ]
     },
     "execution_count": 31,
     "metadata": {},
     "output_type": "execute_result"
    }
   ],
   "source": [
    "FILE_NAME  = \"Centreline Intersection - 4326.csv\"\n",
    "STORE_NAME = \"Intersections.csv\"\n",
    "\n",
    "df = pandas.read_csv(get_raw_path(FILE_NAME))\n",
    "\n",
    "df.head()"
   ]
  },
  {
   "cell_type": "code",
   "execution_count": 32,
   "id": "b19ab76e",
   "metadata": {},
   "outputs": [
    {
     "name": "stdout",
     "output_type": "stream",
     "text": [
      "Processing geometry column...\n",
      "Creating GeoDataFrame\n"
     ]
    }
   ],
   "source": [
    "gdf = get_gdf_using_geom_dict(df)\n",
    "\n",
    "# gdf.head()"
   ]
  },
  {
   "cell_type": "code",
   "execution_count": 33,
   "id": "2a5efe85",
   "metadata": {},
   "outputs": [
    {
     "name": "stdout",
     "output_type": "stream",
     "text": [
      "Joining now using: 'how=inner', 'predicate=within'\n",
      "Searching for missing...\n",
      "5268\n",
      "Joining now using: 'how=inner', 'predicate=intersects'\n",
      "Bordering:  10175\n",
      "Searching for final missing ones...\n",
      "154\n",
      "Combining now...\n"
     ]
    }
   ],
   "source": [
    "gdf_fully_within = add_neighbourhood_column(gdf)\n",
    "gdf_fully_within['SingleNeighbourhood'] = np.ones(len(gdf_fully_within))\n",
    "\n",
    "print(\"Searching for missing...\")\n",
    "missing_indexes = gdf.index.difference(gdf_fully_within.index)\n",
    "missing = gdf.loc[missing_indexes]\n",
    "print(len(missing))\n",
    "\n",
    "gdf_bordering = add_neighbourhood_column(missing, predicate='intersects')\n",
    "gdf_bordering['SingleNeighbourhood'] = np.zeros(len(gdf_bordering))\n",
    "print(\"Bordering: \", len(gdf_bordering))\n",
    "\n",
    "print(\"Searching for final missing ones...\")\n",
    "missing_indexes = missing.index.difference(gdf_bordering.index)\n",
    "missing = missing.loc[missing_indexes]\n",
    "print(len(missing))\n",
    "\n",
    "# missing.head()\n",
    "print(\"Combining now...\")\n",
    "gdf = geopandas.GeoDataFrame(pandas.concat([\n",
    "    gdf_fully_within,\n",
    "    gdf_bordering\n",
    "])).set_geometry('geometry').to_crs(functions.CRS)"
   ]
  },
  {
   "cell_type": "code",
   "execution_count": 34,
   "id": "960c4a56",
   "metadata": {},
   "outputs": [],
   "source": [
    "# missing.explore()"
   ]
  },
  {
   "cell_type": "code",
   "execution_count": 35,
   "id": "c41aad5c",
   "metadata": {},
   "outputs": [],
   "source": [
    "store_context_data(gdf, STORE_NAME)"
   ]
  },
  {
   "cell_type": "code",
   "execution_count": null,
   "id": "bbdb4177",
   "metadata": {},
   "outputs": [],
   "source": []
  }
 ],
 "metadata": {
  "kernelspec": {
   "display_name": "Python 3 (ipykernel)",
   "language": "python",
   "name": "python3"
  },
  "language_info": {
   "codemirror_mode": {
    "name": "ipython",
    "version": 3
   },
   "file_extension": ".py",
   "mimetype": "text/x-python",
   "name": "python",
   "nbconvert_exporter": "python",
   "pygments_lexer": "ipython3",
   "version": "3.11.5"
  }
 },
 "nbformat": 4,
 "nbformat_minor": 5
}
