{
 "cells": [
  {
   "cell_type": "code",
   "execution_count": 1,
   "id": "aeb080cd",
   "metadata": {},
   "outputs": [],
   "source": [
    "import sys, os\n",
    "sys.path.append(os.path.abspath(''))\n",
    "\n",
    "from neighbourhood import open_geopandas_csv, get_neighbourhoods, get_collisions"
   ]
  },
  {
   "cell_type": "code",
   "execution_count": 2,
   "id": "cf273a6d",
   "metadata": {},
   "outputs": [],
   "source": [
    "neighbourhood_gdf = get_neighbourhoods()"
   ]
  },
  {
   "cell_type": "code",
   "execution_count": 3,
   "id": "0ffc9739",
   "metadata": {},
   "outputs": [],
   "source": [
    "collisions_gdf    = get_collisions()"
   ]
  },
  {
   "cell_type": "code",
   "execution_count": 4,
   "id": "f134a2a0",
   "metadata": {},
   "outputs": [
    {
     "data": {
      "text/html": [
       "<div>\n",
       "<style scoped>\n",
       "    .dataframe tbody tr th:only-of-type {\n",
       "        vertical-align: middle;\n",
       "    }\n",
       "\n",
       "    .dataframe tbody tr th {\n",
       "        vertical-align: top;\n",
       "    }\n",
       "\n",
       "    .dataframe thead th {\n",
       "        text-align: right;\n",
       "    }\n",
       "</style>\n",
       "<table border=\"1\" class=\"dataframe\">\n",
       "  <thead>\n",
       "    <tr style=\"text-align: right;\">\n",
       "      <th></th>\n",
       "      <th>Year</th>\n",
       "      <th>Month</th>\n",
       "      <th>Date_in_Month</th>\n",
       "      <th>Day_of_Week</th>\n",
       "      <th>Hour</th>\n",
       "      <th>Fatalities</th>\n",
       "      <th>Injuries</th>\n",
       "      <th>Property_Damages</th>\n",
       "      <th>Neighbourhood</th>\n",
       "      <th>geometry</th>\n",
       "    </tr>\n",
       "  </thead>\n",
       "  <tbody>\n",
       "    <tr>\n",
       "      <th>1</th>\n",
       "      <td>2014</td>\n",
       "      <td>1</td>\n",
       "      <td>3</td>\n",
       "      <td>Friday</td>\n",
       "      <td>12.0</td>\n",
       "      <td>False</td>\n",
       "      <td>False</td>\n",
       "      <td>True</td>\n",
       "      <td>87</td>\n",
       "      <td>POINT (-79.35389 43.67049)</td>\n",
       "    </tr>\n",
       "    <tr>\n",
       "      <th>194</th>\n",
       "      <td>2014</td>\n",
       "      <td>1</td>\n",
       "      <td>4</td>\n",
       "      <td>Saturday</td>\n",
       "      <td>19.0</td>\n",
       "      <td>False</td>\n",
       "      <td>True</td>\n",
       "      <td>False</td>\n",
       "      <td>87</td>\n",
       "      <td>POINT (-79.34958 43.67801)</td>\n",
       "    </tr>\n",
       "    <tr>\n",
       "      <th>663</th>\n",
       "      <td>2014</td>\n",
       "      <td>1</td>\n",
       "      <td>2</td>\n",
       "      <td>Thursday</td>\n",
       "      <td>6.0</td>\n",
       "      <td>False</td>\n",
       "      <td>False</td>\n",
       "      <td>True</td>\n",
       "      <td>87</td>\n",
       "      <td>POINT (-79.34730 43.67846)</td>\n",
       "    </tr>\n",
       "    <tr>\n",
       "      <th>972</th>\n",
       "      <td>2014</td>\n",
       "      <td>1</td>\n",
       "      <td>6</td>\n",
       "      <td>Monday</td>\n",
       "      <td>10.0</td>\n",
       "      <td>False</td>\n",
       "      <td>False</td>\n",
       "      <td>True</td>\n",
       "      <td>87</td>\n",
       "      <td>POINT (-79.35402 43.67714)</td>\n",
       "    </tr>\n",
       "    <tr>\n",
       "      <th>1000</th>\n",
       "      <td>2014</td>\n",
       "      <td>1</td>\n",
       "      <td>9</td>\n",
       "      <td>Thursday</td>\n",
       "      <td>7.0</td>\n",
       "      <td>False</td>\n",
       "      <td>False</td>\n",
       "      <td>True</td>\n",
       "      <td>87</td>\n",
       "      <td>POINT (-79.35883 43.67620)</td>\n",
       "    </tr>\n",
       "  </tbody>\n",
       "</table>\n",
       "</div>"
      ],
      "text/plain": [
       "      Year  Month  Date_in_Month Day_of_Week  Hour  Fatalities  Injuries  \\\n",
       "1     2014      1              3      Friday  12.0       False     False   \n",
       "194   2014      1              4    Saturday  19.0       False      True   \n",
       "663   2014      1              2    Thursday   6.0       False     False   \n",
       "972   2014      1              6      Monday  10.0       False     False   \n",
       "1000  2014      1              9    Thursday   7.0       False     False   \n",
       "\n",
       "      Property_Damages  Neighbourhood                    geometry  \n",
       "1                 True             87  POINT (-79.35389 43.67049)  \n",
       "194              False             87  POINT (-79.34958 43.67801)  \n",
       "663               True             87  POINT (-79.34730 43.67846)  \n",
       "972               True             87  POINT (-79.35402 43.67714)  \n",
       "1000              True             87  POINT (-79.35883 43.67620)  "
      ]
     },
     "execution_count": 4,
     "metadata": {},
     "output_type": "execute_result"
    }
   ],
   "source": [
    "collisions_gdf.head()"
   ]
  },
  {
   "cell_type": "code",
   "execution_count": 5,
   "id": "eb5d9685",
   "metadata": {},
   "outputs": [
    {
     "data": {
      "text/plain": [
       "295011"
      ]
     },
     "execution_count": 5,
     "metadata": {},
     "output_type": "execute_result"
    }
   ],
   "source": [
    "len(collisions_gdf)"
   ]
  },
  {
   "cell_type": "code",
   "execution_count": null,
   "id": "4682974d",
   "metadata": {},
   "outputs": [],
   "source": []
  }
 ],
 "metadata": {
  "kernelspec": {
   "display_name": "Python 3 (ipykernel)",
   "language": "python",
   "name": "python3"
  },
  "language_info": {
   "codemirror_mode": {
    "name": "ipython",
    "version": 3
   },
   "file_extension": ".py",
   "mimetype": "text/x-python",
   "name": "python",
   "nbconvert_exporter": "python",
   "pygments_lexer": "ipython3",
   "version": "3.11.5"
  }
 },
 "nbformat": 4,
 "nbformat_minor": 5
}
