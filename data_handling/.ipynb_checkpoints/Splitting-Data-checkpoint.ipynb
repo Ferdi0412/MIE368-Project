{
 "cells": [
  {
   "cell_type": "markdown",
   "id": "4da0f62c",
   "metadata": {},
   "source": [
    "This file was used to split the Toronto Open Data into training and testing data. Note that the file names have since changed."
   ]
  },
  {
   "cell_type": "code",
   "execution_count": 1,
   "id": "638c98f0",
   "metadata": {},
   "outputs": [],
   "source": [
    "import pandas as pd\n",
    "import csv"
   ]
  },
  {
   "cell_type": "markdown",
   "id": "099399fe",
   "metadata": {},
   "source": [
    "# Toronto Open Data"
   ]
  },
  {
   "cell_type": "code",
   "execution_count": 2,
   "id": "dfb6a27a",
   "metadata": {},
   "outputs": [],
   "source": [
    "df_ods = pd.read_csv(\"Totonto Open Data Source.csv\", low_memory=False)"
   ]
  },
  {
   "cell_type": "code",
   "execution_count": 3,
   "id": "eefee7ad",
   "metadata": {},
   "outputs": [
    {
     "data": {
      "text/html": [
       "<div>\n",
       "<style scoped>\n",
       "    .dataframe tbody tr th:only-of-type {\n",
       "        vertical-align: middle;\n",
       "    }\n",
       "\n",
       "    .dataframe tbody tr th {\n",
       "        vertical-align: top;\n",
       "    }\n",
       "\n",
       "    .dataframe thead th {\n",
       "        text-align: right;\n",
       "    }\n",
       "</style>\n",
       "<table border=\"1\" class=\"dataframe\">\n",
       "  <thead>\n",
       "    <tr style=\"text-align: right;\">\n",
       "      <th></th>\n",
       "      <th>_id</th>\n",
       "      <th>EventUniqueId</th>\n",
       "      <th>OccurrenceDate</th>\n",
       "      <th>Month</th>\n",
       "      <th>Day_of_Week</th>\n",
       "      <th>Year</th>\n",
       "      <th>Hour</th>\n",
       "      <th>Division</th>\n",
       "      <th>Atom</th>\n",
       "      <th>Neighbourhood</th>\n",
       "      <th>Fatalities</th>\n",
       "      <th>Injury_Collisions</th>\n",
       "      <th>FTR_Collisions</th>\n",
       "      <th>PD_Collisions</th>\n",
       "      <th>geometry</th>\n",
       "    </tr>\n",
       "  </thead>\n",
       "  <tbody>\n",
       "    <tr>\n",
       "      <th>0</th>\n",
       "      <td>1</td>\n",
       "      <td>GO-20148000204</td>\n",
       "      <td>2014-01-03T05:00:00</td>\n",
       "      <td>January</td>\n",
       "      <td>Friday</td>\n",
       "      <td>2014</td>\n",
       "      <td>8.0</td>\n",
       "      <td>NSA</td>\n",
       "      <td>NSA</td>\n",
       "      <td>NSA</td>\n",
       "      <td>NaN</td>\n",
       "      <td>NO</td>\n",
       "      <td>NO</td>\n",
       "      <td>YES</td>\n",
       "      <td>{'type': 'Point', 'coordinates': (0.0, 0.0)}</td>\n",
       "    </tr>\n",
       "    <tr>\n",
       "      <th>1</th>\n",
       "      <td>2</td>\n",
       "      <td>GO-20148000205</td>\n",
       "      <td>2014-01-03T05:00:00</td>\n",
       "      <td>January</td>\n",
       "      <td>Friday</td>\n",
       "      <td>2014</td>\n",
       "      <td>12.0</td>\n",
       "      <td>D54/D55</td>\n",
       "      <td>68</td>\n",
       "      <td>North Riverdale (68)</td>\n",
       "      <td>NaN</td>\n",
       "      <td>NO</td>\n",
       "      <td>NO</td>\n",
       "      <td>YES</td>\n",
       "      <td>{'type': 'Point', 'coordinates': (-79.35389302...</td>\n",
       "    </tr>\n",
       "    <tr>\n",
       "      <th>2</th>\n",
       "      <td>3</td>\n",
       "      <td>GO-20148000206</td>\n",
       "      <td>2014-01-03T05:00:00</td>\n",
       "      <td>January</td>\n",
       "      <td>Friday</td>\n",
       "      <td>2014</td>\n",
       "      <td>8.0</td>\n",
       "      <td>NSA</td>\n",
       "      <td>NSA</td>\n",
       "      <td>NSA</td>\n",
       "      <td>NaN</td>\n",
       "      <td>NO</td>\n",
       "      <td>NO</td>\n",
       "      <td>YES</td>\n",
       "      <td>{'type': 'Point', 'coordinates': (0.0, 0.0)}</td>\n",
       "    </tr>\n",
       "    <tr>\n",
       "      <th>3</th>\n",
       "      <td>4</td>\n",
       "      <td>GO-20148000208</td>\n",
       "      <td>2014-01-03T05:00:00</td>\n",
       "      <td>January</td>\n",
       "      <td>Friday</td>\n",
       "      <td>2014</td>\n",
       "      <td>11.0</td>\n",
       "      <td>D52</td>\n",
       "      <td>79</td>\n",
       "      <td>University (79)</td>\n",
       "      <td>NaN</td>\n",
       "      <td>NO</td>\n",
       "      <td>NO</td>\n",
       "      <td>YES</td>\n",
       "      <td>{'type': 'Point', 'coordinates': (-79.40207036...</td>\n",
       "    </tr>\n",
       "    <tr>\n",
       "      <th>4</th>\n",
       "      <td>5</td>\n",
       "      <td>GO-20148000209</td>\n",
       "      <td>2014-01-03T05:00:00</td>\n",
       "      <td>January</td>\n",
       "      <td>Friday</td>\n",
       "      <td>2014</td>\n",
       "      <td>13.0</td>\n",
       "      <td>D32</td>\n",
       "      <td>50</td>\n",
       "      <td>Newtonbrook East (50)</td>\n",
       "      <td>NaN</td>\n",
       "      <td>NO</td>\n",
       "      <td>NO</td>\n",
       "      <td>YES</td>\n",
       "      <td>{'type': 'Point', 'coordinates': (-79.42004278...</td>\n",
       "    </tr>\n",
       "  </tbody>\n",
       "</table>\n",
       "</div>"
      ],
      "text/plain": [
       "   _id   EventUniqueId       OccurrenceDate    Month Day_of_Week  Year  Hour  \\\n",
       "0    1  GO-20148000204  2014-01-03T05:00:00  January      Friday  2014   8.0   \n",
       "1    2  GO-20148000205  2014-01-03T05:00:00  January      Friday  2014  12.0   \n",
       "2    3  GO-20148000206  2014-01-03T05:00:00  January      Friday  2014   8.0   \n",
       "3    4  GO-20148000208  2014-01-03T05:00:00  January      Friday  2014  11.0   \n",
       "4    5  GO-20148000209  2014-01-03T05:00:00  January      Friday  2014  13.0   \n",
       "\n",
       "  Division Atom          Neighbourhood  Fatalities Injury_Collisions  \\\n",
       "0      NSA  NSA                    NSA         NaN                NO   \n",
       "1  D54/D55   68   North Riverdale (68)         NaN                NO   \n",
       "2      NSA  NSA                    NSA         NaN                NO   \n",
       "3      D52   79        University (79)         NaN                NO   \n",
       "4      D32   50  Newtonbrook East (50)         NaN                NO   \n",
       "\n",
       "  FTR_Collisions PD_Collisions  \\\n",
       "0             NO           YES   \n",
       "1             NO           YES   \n",
       "2             NO           YES   \n",
       "3             NO           YES   \n",
       "4             NO           YES   \n",
       "\n",
       "                                            geometry  \n",
       "0       {'type': 'Point', 'coordinates': (0.0, 0.0)}  \n",
       "1  {'type': 'Point', 'coordinates': (-79.35389302...  \n",
       "2       {'type': 'Point', 'coordinates': (0.0, 0.0)}  \n",
       "3  {'type': 'Point', 'coordinates': (-79.40207036...  \n",
       "4  {'type': 'Point', 'coordinates': (-79.42004278...  "
      ]
     },
     "execution_count": 3,
     "metadata": {},
     "output_type": "execute_result"
    }
   ],
   "source": [
    "df_ods.head()"
   ]
  },
  {
   "cell_type": "code",
   "execution_count": 4,
   "id": "d6461dad",
   "metadata": {},
   "outputs": [],
   "source": [
    "df_ods_times = df_ods[['Year', 'Month']].replace({\"January\": '1', \"February\": '2', \"March\": '3', \"April\": '4', \"May\": '5', \"June\": '6',\n",
    "                      \"July\": '7', \"August\": '8', \"September\": \"9\", \"October\": '10', \"November\": \"11\", \"December\": '12'})\n",
    "df_ods_times = df_ods_times['Year'].astype(str) + '_' + df_ods_times['Month']"
   ]
  },
  {
   "cell_type": "code",
   "execution_count": 5,
   "id": "24909018",
   "metadata": {},
   "outputs": [],
   "source": [
    "df_ods_train = df_ods[ df_ods_times <  '2018_7' ]\n",
    "df_ods_test  = df_ods[ df_ods_times >= '2018_7' ]"
   ]
  },
  {
   "cell_type": "code",
   "execution_count": 2,
   "id": "b64d3831",
   "metadata": {},
   "outputs": [
    {
     "data": {
      "text/plain": [
       "'C:\\\\Users\\\\ferdi\\\\Documents\\\\A_School\\\\MIE 368\\\\MIE368-Project\\\\data-handling'"
      ]
     },
     "execution_count": 2,
     "metadata": {},
     "output_type": "execute_result"
    }
   ],
   "source": [
    "import os, sys\n",
    "os.path.abspath('')"
   ]
  },
  {
   "cell_type": "code",
   "execution_count": 6,
   "id": "399c798d",
   "metadata": {},
   "outputs": [],
   "source": [
    "df_ods_train.to_csv(r\"Temp\\Accidents - Training - Toronto Open Data.csv\", index=False)"
   ]
  },
  {
   "cell_type": "code",
   "execution_count": 7,
   "id": "f97106a7",
   "metadata": {},
   "outputs": [],
   "source": [
    "df_ods_test.to_csv(r\"Temp\\Accidents - Testing - Toronto Open Data.csv\", index=False)"
   ]
  },
  {
   "cell_type": "markdown",
   "id": "8d63148f",
   "metadata": {},
   "source": [
    "# Toronto Public Safety"
   ]
  },
  {
   "cell_type": "code",
   "execution_count": 8,
   "id": "a3deace8",
   "metadata": {},
   "outputs": [],
   "source": [
    "df_pss = pd.read_csv(\"Public Safety Source.csv\", low_memory=False) "
   ]
  },
  {
   "cell_type": "code",
   "execution_count": 9,
   "id": "4724e0c9",
   "metadata": {},
   "outputs": [
    {
     "data": {
      "text/html": [
       "<div>\n",
       "<style scoped>\n",
       "    .dataframe tbody tr th:only-of-type {\n",
       "        vertical-align: middle;\n",
       "    }\n",
       "\n",
       "    .dataframe tbody tr th {\n",
       "        vertical-align: top;\n",
       "    }\n",
       "\n",
       "    .dataframe thead th {\n",
       "        text-align: right;\n",
       "    }\n",
       "</style>\n",
       "<table border=\"1\" class=\"dataframe\">\n",
       "  <thead>\n",
       "    <tr style=\"text-align: right;\">\n",
       "      <th></th>\n",
       "      <th>X</th>\n",
       "      <th>Y</th>\n",
       "      <th>INDEX_</th>\n",
       "      <th>ACCNUM</th>\n",
       "      <th>YEAR</th>\n",
       "      <th>DATE</th>\n",
       "      <th>TIME</th>\n",
       "      <th>STREET1</th>\n",
       "      <th>STREET2</th>\n",
       "      <th>OFFSET</th>\n",
       "      <th>...</th>\n",
       "      <th>AG_DRIV</th>\n",
       "      <th>REDLIGHT</th>\n",
       "      <th>ALCOHOL</th>\n",
       "      <th>DISABILITY</th>\n",
       "      <th>HOOD_158</th>\n",
       "      <th>NEIGHBOURHOOD_158</th>\n",
       "      <th>HOOD_140</th>\n",
       "      <th>NEIGHBOURHOOD_140</th>\n",
       "      <th>DIVISION</th>\n",
       "      <th>ObjectId</th>\n",
       "    </tr>\n",
       "  </thead>\n",
       "  <tbody>\n",
       "    <tr>\n",
       "      <th>0</th>\n",
       "      <td>-8.848830e+06</td>\n",
       "      <td>5.413553e+06</td>\n",
       "      <td>3374272</td>\n",
       "      <td>887427.0</td>\n",
       "      <td>2006</td>\n",
       "      <td>2006/02/07 05:00:00+00</td>\n",
       "      <td>1330</td>\n",
       "      <td>JANE ST</td>\n",
       "      <td>BRADLEY AVE</td>\n",
       "      <td>NaN</td>\n",
       "      <td>...</td>\n",
       "      <td>NaN</td>\n",
       "      <td>NaN</td>\n",
       "      <td>NaN</td>\n",
       "      <td>NaN</td>\n",
       "      <td>89</td>\n",
       "      <td>Runnymede-Bloor West Village</td>\n",
       "      <td>89</td>\n",
       "      <td>Runnymede-Bloor West Village (89)</td>\n",
       "      <td>D11</td>\n",
       "      <td>1</td>\n",
       "    </tr>\n",
       "    <tr>\n",
       "      <th>1</th>\n",
       "      <td>-8.847572e+06</td>\n",
       "      <td>5.412645e+06</td>\n",
       "      <td>3382290</td>\n",
       "      <td>890583.0</td>\n",
       "      <td>2006</td>\n",
       "      <td>2006/02/08 05:00:00+00</td>\n",
       "      <td>745</td>\n",
       "      <td>WOODSIDE AVE</td>\n",
       "      <td>RUNNYMEDE RD</td>\n",
       "      <td>NaN</td>\n",
       "      <td>...</td>\n",
       "      <td>Yes</td>\n",
       "      <td>NaN</td>\n",
       "      <td>NaN</td>\n",
       "      <td>NaN</td>\n",
       "      <td>88</td>\n",
       "      <td>High Park North</td>\n",
       "      <td>88</td>\n",
       "      <td>High Park North (88)</td>\n",
       "      <td>D11</td>\n",
       "      <td>2</td>\n",
       "    </tr>\n",
       "    <tr>\n",
       "      <th>2</th>\n",
       "      <td>-8.847572e+06</td>\n",
       "      <td>5.412645e+06</td>\n",
       "      <td>3382291</td>\n",
       "      <td>890583.0</td>\n",
       "      <td>2006</td>\n",
       "      <td>2006/02/08 05:00:00+00</td>\n",
       "      <td>745</td>\n",
       "      <td>WOODSIDE AVE</td>\n",
       "      <td>RUNNYMEDE RD</td>\n",
       "      <td>NaN</td>\n",
       "      <td>...</td>\n",
       "      <td>Yes</td>\n",
       "      <td>NaN</td>\n",
       "      <td>NaN</td>\n",
       "      <td>NaN</td>\n",
       "      <td>88</td>\n",
       "      <td>High Park North</td>\n",
       "      <td>88</td>\n",
       "      <td>High Park North (88)</td>\n",
       "      <td>D11</td>\n",
       "      <td>3</td>\n",
       "    </tr>\n",
       "    <tr>\n",
       "      <th>3</th>\n",
       "      <td>-8.860541e+06</td>\n",
       "      <td>5.417093e+06</td>\n",
       "      <td>3602929</td>\n",
       "      <td>887637.0</td>\n",
       "      <td>2006</td>\n",
       "      <td>2006/02/08 05:00:00+00</td>\n",
       "      <td>1500</td>\n",
       "      <td>CARLINGVIEW DR</td>\n",
       "      <td>DIXON RD</td>\n",
       "      <td>NaN</td>\n",
       "      <td>...</td>\n",
       "      <td>NaN</td>\n",
       "      <td>NaN</td>\n",
       "      <td>NaN</td>\n",
       "      <td>NaN</td>\n",
       "      <td>1</td>\n",
       "      <td>West Humber-Clairville</td>\n",
       "      <td>1</td>\n",
       "      <td>West Humber-Clairville (1)</td>\n",
       "      <td>D23</td>\n",
       "      <td>4</td>\n",
       "    </tr>\n",
       "    <tr>\n",
       "      <th>4</th>\n",
       "      <td>-8.860541e+06</td>\n",
       "      <td>5.417093e+06</td>\n",
       "      <td>3602930</td>\n",
       "      <td>887637.0</td>\n",
       "      <td>2006</td>\n",
       "      <td>2006/02/08 05:00:00+00</td>\n",
       "      <td>1500</td>\n",
       "      <td>CARLINGVIEW DR</td>\n",
       "      <td>DIXON RD</td>\n",
       "      <td>NaN</td>\n",
       "      <td>...</td>\n",
       "      <td>NaN</td>\n",
       "      <td>NaN</td>\n",
       "      <td>NaN</td>\n",
       "      <td>NaN</td>\n",
       "      <td>1</td>\n",
       "      <td>West Humber-Clairville</td>\n",
       "      <td>1</td>\n",
       "      <td>West Humber-Clairville (1)</td>\n",
       "      <td>D23</td>\n",
       "      <td>5</td>\n",
       "    </tr>\n",
       "  </tbody>\n",
       "</table>\n",
       "<p>5 rows × 57 columns</p>\n",
       "</div>"
      ],
      "text/plain": [
       "              X             Y   INDEX_    ACCNUM  YEAR  \\\n",
       "0 -8.848830e+06  5.413553e+06  3374272  887427.0  2006   \n",
       "1 -8.847572e+06  5.412645e+06  3382290  890583.0  2006   \n",
       "2 -8.847572e+06  5.412645e+06  3382291  890583.0  2006   \n",
       "3 -8.860541e+06  5.417093e+06  3602929  887637.0  2006   \n",
       "4 -8.860541e+06  5.417093e+06  3602930  887637.0  2006   \n",
       "\n",
       "                     DATE  TIME         STREET1       STREET2 OFFSET  ...  \\\n",
       "0  2006/02/07 05:00:00+00  1330         JANE ST   BRADLEY AVE    NaN  ...   \n",
       "1  2006/02/08 05:00:00+00   745    WOODSIDE AVE  RUNNYMEDE RD    NaN  ...   \n",
       "2  2006/02/08 05:00:00+00   745    WOODSIDE AVE  RUNNYMEDE RD    NaN  ...   \n",
       "3  2006/02/08 05:00:00+00  1500  CARLINGVIEW DR      DIXON RD    NaN  ...   \n",
       "4  2006/02/08 05:00:00+00  1500  CARLINGVIEW DR      DIXON RD    NaN  ...   \n",
       "\n",
       "  AG_DRIV REDLIGHT  ALCOHOL  DISABILITY  HOOD_158  \\\n",
       "0     NaN      NaN      NaN         NaN        89   \n",
       "1     Yes      NaN      NaN         NaN        88   \n",
       "2     Yes      NaN      NaN         NaN        88   \n",
       "3     NaN      NaN      NaN         NaN         1   \n",
       "4     NaN      NaN      NaN         NaN         1   \n",
       "\n",
       "              NEIGHBOURHOOD_158 HOOD_140                  NEIGHBOURHOOD_140  \\\n",
       "0  Runnymede-Bloor West Village       89  Runnymede-Bloor West Village (89)   \n",
       "1               High Park North       88               High Park North (88)   \n",
       "2               High Park North       88               High Park North (88)   \n",
       "3        West Humber-Clairville        1         West Humber-Clairville (1)   \n",
       "4        West Humber-Clairville        1         West Humber-Clairville (1)   \n",
       "\n",
       "  DIVISION ObjectId  \n",
       "0      D11        1  \n",
       "1      D11        2  \n",
       "2      D11        3  \n",
       "3      D23        4  \n",
       "4      D23        5  \n",
       "\n",
       "[5 rows x 57 columns]"
      ]
     },
     "execution_count": 9,
     "metadata": {},
     "output_type": "execute_result"
    }
   ],
   "source": [
    "df_pss.head()"
   ]
  },
  {
   "cell_type": "code",
   "execution_count": 10,
   "id": "fe689f90",
   "metadata": {},
   "outputs": [],
   "source": [
    "df_pss_times = df_pss[\"DATE\"].str.split('/', expand = True) # Split DATE column into [year, month, ...]\n",
    "df_pss_times = df_pss_times[0] + \"_\" + df_pss_times[1] # Get Series of format \"year_month\""
   ]
  },
  {
   "cell_type": "code",
   "execution_count": 11,
   "id": "e2f55bc4",
   "metadata": {},
   "outputs": [],
   "source": [
    "df_pss_train = df_pss[ df_pss_times < \"2018_07\" ]\n",
    "df_pss_test = df_pss[ df_pss_times >= \"2018_07\" ]"
   ]
  },
  {
   "cell_type": "code",
   "execution_count": 12,
   "id": "3fef4f6a",
   "metadata": {},
   "outputs": [
    {
     "data": {
      "text/plain": [
       "13403"
      ]
     },
     "execution_count": 12,
     "metadata": {},
     "output_type": "execute_result"
    }
   ],
   "source": [
    "len(df_pss_train)"
   ]
  },
  {
   "cell_type": "code",
   "execution_count": 13,
   "id": "0663c4b3",
   "metadata": {},
   "outputs": [
    {
     "data": {
      "text/plain": [
       "3147"
      ]
     },
     "execution_count": 13,
     "metadata": {},
     "output_type": "execute_result"
    }
   ],
   "source": [
    "len(df_pss_test)"
   ]
  },
  {
   "cell_type": "code",
   "execution_count": 14,
   "id": "609cb332",
   "metadata": {},
   "outputs": [
    {
     "data": {
      "text/plain": [
       "16550"
      ]
     },
     "execution_count": 14,
     "metadata": {},
     "output_type": "execute_result"
    }
   ],
   "source": [
    "len(df_pss)"
   ]
  },
  {
   "cell_type": "code",
   "execution_count": 15,
   "id": "b5c94ed9",
   "metadata": {},
   "outputs": [],
   "source": [
    "df_pss_train.to_csv(r\"C:\\Users\\ferdi\\Documents\\A_School\\MIE 368\\Training Data\\Accidents - Training - Public Safety.csv\", index=False)"
   ]
  },
  {
   "cell_type": "code",
   "execution_count": 16,
   "id": "a788f576",
   "metadata": {},
   "outputs": [],
   "source": [
    "df_pss_test.to_csv(r\"C:\\Users\\ferdi\\Documents\\A_School\\MIE 368\\Testing Data\\Accidents - Testing - Public Safety.csv\", index=False)"
   ]
  },
  {
   "cell_type": "code",
   "execution_count": null,
   "id": "ad68a33c",
   "metadata": {},
   "outputs": [],
   "source": []
  }
 ],
 "metadata": {
  "kernelspec": {
   "display_name": "Python 3 (ipykernel)",
   "language": "python",
   "name": "python3"
  },
  "language_info": {
   "codemirror_mode": {
    "name": "ipython",
    "version": 3
   },
   "file_extension": ".py",
   "mimetype": "text/x-python",
   "name": "python",
   "nbconvert_exporter": "python",
   "pygments_lexer": "ipython3",
   "version": "3.11.5"
  }
 },
 "nbformat": 4,
 "nbformat_minor": 5
}
