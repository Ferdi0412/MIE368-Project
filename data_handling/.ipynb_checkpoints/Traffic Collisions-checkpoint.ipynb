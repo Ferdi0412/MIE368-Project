{
 "cells": [
  {
   "cell_type": "markdown",
   "id": "810e9fba",
   "metadata": {},
   "source": [
    "# Traffic Collisions Dataset\n",
    "This file will group traffic collisions by neighbourhood, and by both neighbourhood and month/year"
   ]
  },
  {
   "cell_type": "code",
   "execution_count": 1,
   "id": "94aab22f",
   "metadata": {},
   "outputs": [],
   "source": [
    "import geopandas as gpd\n",
    "import pandas as pd\n",
    "import shapely\n",
    "import ast\n",
    "import os"
   ]
  },
  {
   "cell_type": "code",
   "execution_count": 2,
   "id": "9e5524ae",
   "metadata": {},
   "outputs": [],
   "source": [
    "curr_dir = os.path.abspath('')\n",
    "main_dir = os.path.dirname(curr_dir)\n",
    "data_dir = os.path.join(main_dir, 'train-data')"
   ]
  },
  {
   "cell_type": "markdown",
   "id": "176e1892",
   "metadata": {},
   "source": [
    "## Traffic Collisions.csv"
   ]
  },
  {
   "cell_type": "code",
   "execution_count": 3,
   "id": "8d276122",
   "metadata": {},
   "outputs": [],
   "source": [
    "collision_df = pd.read_csv(os.path.join(data_dir, \"Traffic Collisions - 4326.csv\"))"
   ]
  },
  {
   "cell_type": "code",
   "execution_count": 4,
   "id": "d1739eb6",
   "metadata": {},
   "outputs": [
    {
     "data": {
      "text/html": [
       "<div>\n",
       "<style scoped>\n",
       "    .dataframe tbody tr th:only-of-type {\n",
       "        vertical-align: middle;\n",
       "    }\n",
       "\n",
       "    .dataframe tbody tr th {\n",
       "        vertical-align: top;\n",
       "    }\n",
       "\n",
       "    .dataframe thead th {\n",
       "        text-align: right;\n",
       "    }\n",
       "</style>\n",
       "<table border=\"1\" class=\"dataframe\">\n",
       "  <thead>\n",
       "    <tr style=\"text-align: right;\">\n",
       "      <th></th>\n",
       "      <th>_id</th>\n",
       "      <th>EventUniqueId</th>\n",
       "      <th>OccurrenceDate</th>\n",
       "      <th>Month</th>\n",
       "      <th>Day_of_Week</th>\n",
       "      <th>Year</th>\n",
       "      <th>Hour</th>\n",
       "      <th>Division</th>\n",
       "      <th>Atom</th>\n",
       "      <th>Neighbourhood</th>\n",
       "      <th>Fatalities</th>\n",
       "      <th>Injury_Collisions</th>\n",
       "      <th>FTR_Collisions</th>\n",
       "      <th>PD_Collisions</th>\n",
       "      <th>geometry</th>\n",
       "    </tr>\n",
       "  </thead>\n",
       "  <tbody>\n",
       "    <tr>\n",
       "      <th>0</th>\n",
       "      <td>1</td>\n",
       "      <td>GO-20148000204</td>\n",
       "      <td>2014-01-03T05:00:00</td>\n",
       "      <td>January</td>\n",
       "      <td>Friday</td>\n",
       "      <td>2014</td>\n",
       "      <td>8.0</td>\n",
       "      <td>NSA</td>\n",
       "      <td>NSA</td>\n",
       "      <td>NSA</td>\n",
       "      <td>NaN</td>\n",
       "      <td>NO</td>\n",
       "      <td>NO</td>\n",
       "      <td>YES</td>\n",
       "      <td>{'type': 'Point', 'coordinates': (0.0, 0.0)}</td>\n",
       "    </tr>\n",
       "    <tr>\n",
       "      <th>1</th>\n",
       "      <td>2</td>\n",
       "      <td>GO-20148000205</td>\n",
       "      <td>2014-01-03T05:00:00</td>\n",
       "      <td>January</td>\n",
       "      <td>Friday</td>\n",
       "      <td>2014</td>\n",
       "      <td>12.0</td>\n",
       "      <td>D54/D55</td>\n",
       "      <td>68</td>\n",
       "      <td>North Riverdale (68)</td>\n",
       "      <td>NaN</td>\n",
       "      <td>NO</td>\n",
       "      <td>NO</td>\n",
       "      <td>YES</td>\n",
       "      <td>{'type': 'Point', 'coordinates': (-79.35389302...</td>\n",
       "    </tr>\n",
       "    <tr>\n",
       "      <th>2</th>\n",
       "      <td>3</td>\n",
       "      <td>GO-20148000206</td>\n",
       "      <td>2014-01-03T05:00:00</td>\n",
       "      <td>January</td>\n",
       "      <td>Friday</td>\n",
       "      <td>2014</td>\n",
       "      <td>8.0</td>\n",
       "      <td>NSA</td>\n",
       "      <td>NSA</td>\n",
       "      <td>NSA</td>\n",
       "      <td>NaN</td>\n",
       "      <td>NO</td>\n",
       "      <td>NO</td>\n",
       "      <td>YES</td>\n",
       "      <td>{'type': 'Point', 'coordinates': (0.0, 0.0)}</td>\n",
       "    </tr>\n",
       "    <tr>\n",
       "      <th>3</th>\n",
       "      <td>4</td>\n",
       "      <td>GO-20148000208</td>\n",
       "      <td>2014-01-03T05:00:00</td>\n",
       "      <td>January</td>\n",
       "      <td>Friday</td>\n",
       "      <td>2014</td>\n",
       "      <td>11.0</td>\n",
       "      <td>D52</td>\n",
       "      <td>79</td>\n",
       "      <td>University (79)</td>\n",
       "      <td>NaN</td>\n",
       "      <td>NO</td>\n",
       "      <td>NO</td>\n",
       "      <td>YES</td>\n",
       "      <td>{'type': 'Point', 'coordinates': (-79.40207036...</td>\n",
       "    </tr>\n",
       "    <tr>\n",
       "      <th>4</th>\n",
       "      <td>5</td>\n",
       "      <td>GO-20148000209</td>\n",
       "      <td>2014-01-03T05:00:00</td>\n",
       "      <td>January</td>\n",
       "      <td>Friday</td>\n",
       "      <td>2014</td>\n",
       "      <td>13.0</td>\n",
       "      <td>D32</td>\n",
       "      <td>50</td>\n",
       "      <td>Newtonbrook East (50)</td>\n",
       "      <td>NaN</td>\n",
       "      <td>NO</td>\n",
       "      <td>NO</td>\n",
       "      <td>YES</td>\n",
       "      <td>{'type': 'Point', 'coordinates': (-79.42004278...</td>\n",
       "    </tr>\n",
       "  </tbody>\n",
       "</table>\n",
       "</div>"
      ],
      "text/plain": [
       "   _id   EventUniqueId       OccurrenceDate    Month Day_of_Week  Year  Hour  \\\n",
       "0    1  GO-20148000204  2014-01-03T05:00:00  January      Friday  2014   8.0   \n",
       "1    2  GO-20148000205  2014-01-03T05:00:00  January      Friday  2014  12.0   \n",
       "2    3  GO-20148000206  2014-01-03T05:00:00  January      Friday  2014   8.0   \n",
       "3    4  GO-20148000208  2014-01-03T05:00:00  January      Friday  2014  11.0   \n",
       "4    5  GO-20148000209  2014-01-03T05:00:00  January      Friday  2014  13.0   \n",
       "\n",
       "  Division Atom          Neighbourhood  Fatalities Injury_Collisions  \\\n",
       "0      NSA  NSA                    NSA         NaN                NO   \n",
       "1  D54/D55   68   North Riverdale (68)         NaN                NO   \n",
       "2      NSA  NSA                    NSA         NaN                NO   \n",
       "3      D52   79        University (79)         NaN                NO   \n",
       "4      D32   50  Newtonbrook East (50)         NaN                NO   \n",
       "\n",
       "  FTR_Collisions PD_Collisions  \\\n",
       "0             NO           YES   \n",
       "1             NO           YES   \n",
       "2             NO           YES   \n",
       "3             NO           YES   \n",
       "4             NO           YES   \n",
       "\n",
       "                                            geometry  \n",
       "0       {'type': 'Point', 'coordinates': (0.0, 0.0)}  \n",
       "1  {'type': 'Point', 'coordinates': (-79.35389302...  \n",
       "2       {'type': 'Point', 'coordinates': (0.0, 0.0)}  \n",
       "3  {'type': 'Point', 'coordinates': (-79.40207036...  \n",
       "4  {'type': 'Point', 'coordinates': (-79.42004278...  "
      ]
     },
     "execution_count": 4,
     "metadata": {},
     "output_type": "execute_result"
    }
   ],
   "source": [
    "collision_df.head()"
   ]
  },
  {
   "cell_type": "markdown",
   "id": "1432399a",
   "metadata": {},
   "source": [
    "### Transform to GeoPandas.GeoDataFrame"
   ]
  },
  {
   "cell_type": "code",
   "execution_count": 5,
   "id": "7d3d756e",
   "metadata": {},
   "outputs": [],
   "source": [
    "## Get list of shapely points corresponding to locations of accidents\n",
    "geometry = [shapely.Point(ast.literal_eval(geom)['coordinates']) for geom in collision_df['geometry']]"
   ]
  },
  {
   "cell_type": "code",
   "execution_count": 6,
   "id": "117d41f2",
   "metadata": {},
   "outputs": [],
   "source": [
    "collisions_gdf = gpd.GeoDataFrame(collision_df.drop('geometry', axis = 1), geometry = geometry)\n",
    "collisions_gdf.crs = \"urn:ogc:def:crs:OGC:1.3:CRS84\""
   ]
  },
  {
   "cell_type": "code",
   "execution_count": 7,
   "id": "df27c64c",
   "metadata": {},
   "outputs": [
    {
     "data": {
      "text/html": [
       "<div>\n",
       "<style scoped>\n",
       "    .dataframe tbody tr th:only-of-type {\n",
       "        vertical-align: middle;\n",
       "    }\n",
       "\n",
       "    .dataframe tbody tr th {\n",
       "        vertical-align: top;\n",
       "    }\n",
       "\n",
       "    .dataframe thead th {\n",
       "        text-align: right;\n",
       "    }\n",
       "</style>\n",
       "<table border=\"1\" class=\"dataframe\">\n",
       "  <thead>\n",
       "    <tr style=\"text-align: right;\">\n",
       "      <th></th>\n",
       "      <th>_id</th>\n",
       "      <th>EventUniqueId</th>\n",
       "      <th>OccurrenceDate</th>\n",
       "      <th>Month</th>\n",
       "      <th>Day_of_Week</th>\n",
       "      <th>Year</th>\n",
       "      <th>Hour</th>\n",
       "      <th>Division</th>\n",
       "      <th>Atom</th>\n",
       "      <th>Neighbourhood</th>\n",
       "      <th>Fatalities</th>\n",
       "      <th>Injury_Collisions</th>\n",
       "      <th>FTR_Collisions</th>\n",
       "      <th>PD_Collisions</th>\n",
       "      <th>geometry</th>\n",
       "    </tr>\n",
       "  </thead>\n",
       "  <tbody>\n",
       "    <tr>\n",
       "      <th>0</th>\n",
       "      <td>1</td>\n",
       "      <td>GO-20148000204</td>\n",
       "      <td>2014-01-03T05:00:00</td>\n",
       "      <td>January</td>\n",
       "      <td>Friday</td>\n",
       "      <td>2014</td>\n",
       "      <td>8.0</td>\n",
       "      <td>NSA</td>\n",
       "      <td>NSA</td>\n",
       "      <td>NSA</td>\n",
       "      <td>NaN</td>\n",
       "      <td>NO</td>\n",
       "      <td>NO</td>\n",
       "      <td>YES</td>\n",
       "      <td>POINT (0.00000 0.00000)</td>\n",
       "    </tr>\n",
       "    <tr>\n",
       "      <th>1</th>\n",
       "      <td>2</td>\n",
       "      <td>GO-20148000205</td>\n",
       "      <td>2014-01-03T05:00:00</td>\n",
       "      <td>January</td>\n",
       "      <td>Friday</td>\n",
       "      <td>2014</td>\n",
       "      <td>12.0</td>\n",
       "      <td>D54/D55</td>\n",
       "      <td>68</td>\n",
       "      <td>North Riverdale (68)</td>\n",
       "      <td>NaN</td>\n",
       "      <td>NO</td>\n",
       "      <td>NO</td>\n",
       "      <td>YES</td>\n",
       "      <td>POINT (-79.35389 43.67049)</td>\n",
       "    </tr>\n",
       "    <tr>\n",
       "      <th>2</th>\n",
       "      <td>3</td>\n",
       "      <td>GO-20148000206</td>\n",
       "      <td>2014-01-03T05:00:00</td>\n",
       "      <td>January</td>\n",
       "      <td>Friday</td>\n",
       "      <td>2014</td>\n",
       "      <td>8.0</td>\n",
       "      <td>NSA</td>\n",
       "      <td>NSA</td>\n",
       "      <td>NSA</td>\n",
       "      <td>NaN</td>\n",
       "      <td>NO</td>\n",
       "      <td>NO</td>\n",
       "      <td>YES</td>\n",
       "      <td>POINT (0.00000 0.00000)</td>\n",
       "    </tr>\n",
       "    <tr>\n",
       "      <th>3</th>\n",
       "      <td>4</td>\n",
       "      <td>GO-20148000208</td>\n",
       "      <td>2014-01-03T05:00:00</td>\n",
       "      <td>January</td>\n",
       "      <td>Friday</td>\n",
       "      <td>2014</td>\n",
       "      <td>11.0</td>\n",
       "      <td>D52</td>\n",
       "      <td>79</td>\n",
       "      <td>University (79)</td>\n",
       "      <td>NaN</td>\n",
       "      <td>NO</td>\n",
       "      <td>NO</td>\n",
       "      <td>YES</td>\n",
       "      <td>POINT (-79.40207 43.66305)</td>\n",
       "    </tr>\n",
       "    <tr>\n",
       "      <th>4</th>\n",
       "      <td>5</td>\n",
       "      <td>GO-20148000209</td>\n",
       "      <td>2014-01-03T05:00:00</td>\n",
       "      <td>January</td>\n",
       "      <td>Friday</td>\n",
       "      <td>2014</td>\n",
       "      <td>13.0</td>\n",
       "      <td>D32</td>\n",
       "      <td>50</td>\n",
       "      <td>Newtonbrook East (50)</td>\n",
       "      <td>NaN</td>\n",
       "      <td>NO</td>\n",
       "      <td>NO</td>\n",
       "      <td>YES</td>\n",
       "      <td>POINT (-79.42004 43.79800)</td>\n",
       "    </tr>\n",
       "  </tbody>\n",
       "</table>\n",
       "</div>"
      ],
      "text/plain": [
       "   _id   EventUniqueId       OccurrenceDate    Month Day_of_Week  Year  Hour  \\\n",
       "0    1  GO-20148000204  2014-01-03T05:00:00  January      Friday  2014   8.0   \n",
       "1    2  GO-20148000205  2014-01-03T05:00:00  January      Friday  2014  12.0   \n",
       "2    3  GO-20148000206  2014-01-03T05:00:00  January      Friday  2014   8.0   \n",
       "3    4  GO-20148000208  2014-01-03T05:00:00  January      Friday  2014  11.0   \n",
       "4    5  GO-20148000209  2014-01-03T05:00:00  January      Friday  2014  13.0   \n",
       "\n",
       "  Division Atom          Neighbourhood  Fatalities Injury_Collisions  \\\n",
       "0      NSA  NSA                    NSA         NaN                NO   \n",
       "1  D54/D55   68   North Riverdale (68)         NaN                NO   \n",
       "2      NSA  NSA                    NSA         NaN                NO   \n",
       "3      D52   79        University (79)         NaN                NO   \n",
       "4      D32   50  Newtonbrook East (50)         NaN                NO   \n",
       "\n",
       "  FTR_Collisions PD_Collisions                    geometry  \n",
       "0             NO           YES     POINT (0.00000 0.00000)  \n",
       "1             NO           YES  POINT (-79.35389 43.67049)  \n",
       "2             NO           YES     POINT (0.00000 0.00000)  \n",
       "3             NO           YES  POINT (-79.40207 43.66305)  \n",
       "4             NO           YES  POINT (-79.42004 43.79800)  "
      ]
     },
     "execution_count": 7,
     "metadata": {},
     "output_type": "execute_result"
    }
   ],
   "source": [
    "collisions_gdf.head()"
   ]
  },
  {
   "cell_type": "markdown",
   "id": "ea782a1a",
   "metadata": {},
   "source": [
    "### Clean data"
   ]
  },
  {
   "cell_type": "markdown",
   "id": "1d3c439e",
   "metadata": {},
   "source": [
    "#### Change 'Fatalities' to a binary value"
   ]
  },
  {
   "cell_type": "code",
   "execution_count": 8,
   "id": "e0d59a3b",
   "metadata": {},
   "outputs": [],
   "source": [
    "collisions_gdf['Fatalities'] = ~collisions_gdf[\"Fatalities\"].isna().astype(bool)"
   ]
  },
  {
   "cell_type": "markdown",
   "id": "080e7bfb",
   "metadata": {},
   "source": [
    "#### Change 'Injury_Collisions' to a binary value, and rename as 'Injuries'"
   ]
  },
  {
   "cell_type": "code",
   "execution_count": 9,
   "id": "e3022bb4",
   "metadata": {},
   "outputs": [],
   "source": [
    "collisions_gdf['Injuries'] = collisions_gdf['Injury_Collisions'].replace({'NO': 0, 'YES': 1}).astype(bool)\n",
    "collisions_gdf = collisions_gdf.drop('Injury_Collisions', axis = 1)"
   ]
  },
  {
   "cell_type": "markdown",
   "id": "1f4723e6",
   "metadata": {},
   "source": [
    "#### Add 'Date_in_Month'"
   ]
  },
  {
   "cell_type": "code",
   "execution_count": 10,
   "id": "7e846b2b",
   "metadata": {},
   "outputs": [],
   "source": [
    "collisions_gdf['Date_in_Month'] = collisions_gdf['OccurrenceDate'].str.split(\"-\", expand=True)[2].str.split(\"T\", expand=True)[0].astype(int)"
   ]
  },
  {
   "cell_type": "markdown",
   "id": "af40e1cf",
   "metadata": {},
   "source": [
    "#### Change 'Month' to an integer value"
   ]
  },
  {
   "cell_type": "code",
   "execution_count": 11,
   "id": "06325562",
   "metadata": {},
   "outputs": [],
   "source": [
    "months_mapping = {'January': 1, 'February': 2, 'March': 3, 'April': 4, 'May': 5, 'June': 6, 'July': 7, 'August': 8, 'September': 9, 'October': 10, 'November': 11, 'December': 12}\n",
    "collisions_gdf['Month'] = collisions_gdf['Month'].replace(months_mapping).astype(int)"
   ]
  },
  {
   "cell_type": "markdown",
   "id": "d1ac1069",
   "metadata": {},
   "source": [
    "#### Keep only used columns"
   ]
  },
  {
   "cell_type": "code",
   "execution_count": 15,
   "id": "3c63444c",
   "metadata": {},
   "outputs": [],
   "source": [
    "collisions_gdf = collisions_gdf[[\"Year\", \"Month\", \"Date_in_Month\", \"Day_of_Week\", \"Hour\", \"Fatalities\", \"Injuries\", \"geometry\"]]"
   ]
  },
  {
   "cell_type": "markdown",
   "id": "4d1ee724",
   "metadata": {},
   "source": [
    "#### Drop columns where coordinates are (0, 0)"
   ]
  },
  {
   "cell_type": "code",
   "execution_count": 13,
   "id": "633b99e6",
   "metadata": {},
   "outputs": [],
   "source": [
    "collisions_gdf = collisions_gdf[~(collisions_gdf['geometry'] == shapely.Point(0, 0))]"
   ]
  },
  {
   "cell_type": "markdown",
   "id": "108e9970",
   "metadata": {},
   "source": [
    "#### Let's see what we have done"
   ]
  },
  {
   "cell_type": "code",
   "execution_count": 14,
   "id": "e2730217",
   "metadata": {},
   "outputs": [
    {
     "data": {
      "text/html": [
       "<div>\n",
       "<style scoped>\n",
       "    .dataframe tbody tr th:only-of-type {\n",
       "        vertical-align: middle;\n",
       "    }\n",
       "\n",
       "    .dataframe tbody tr th {\n",
       "        vertical-align: top;\n",
       "    }\n",
       "\n",
       "    .dataframe thead th {\n",
       "        text-align: right;\n",
       "    }\n",
       "</style>\n",
       "<table border=\"1\" class=\"dataframe\">\n",
       "  <thead>\n",
       "    <tr style=\"text-align: right;\">\n",
       "      <th></th>\n",
       "      <th>Year</th>\n",
       "      <th>Month</th>\n",
       "      <th>Date_in_Month</th>\n",
       "      <th>Day_of_Week</th>\n",
       "      <th>Hour</th>\n",
       "      <th>Atom</th>\n",
       "      <th>Fatalities</th>\n",
       "      <th>Injuries</th>\n",
       "      <th>geometry</th>\n",
       "    </tr>\n",
       "  </thead>\n",
       "  <tbody>\n",
       "    <tr>\n",
       "      <th>1</th>\n",
       "      <td>2014</td>\n",
       "      <td>1</td>\n",
       "      <td>3</td>\n",
       "      <td>Friday</td>\n",
       "      <td>12.0</td>\n",
       "      <td>68</td>\n",
       "      <td>False</td>\n",
       "      <td>False</td>\n",
       "      <td>POINT (-79.35389 43.67049)</td>\n",
       "    </tr>\n",
       "    <tr>\n",
       "      <th>3</th>\n",
       "      <td>2014</td>\n",
       "      <td>1</td>\n",
       "      <td>3</td>\n",
       "      <td>Friday</td>\n",
       "      <td>11.0</td>\n",
       "      <td>79</td>\n",
       "      <td>False</td>\n",
       "      <td>False</td>\n",
       "      <td>POINT (-79.40207 43.66305)</td>\n",
       "    </tr>\n",
       "    <tr>\n",
       "      <th>4</th>\n",
       "      <td>2014</td>\n",
       "      <td>1</td>\n",
       "      <td>3</td>\n",
       "      <td>Friday</td>\n",
       "      <td>13.0</td>\n",
       "      <td>50</td>\n",
       "      <td>False</td>\n",
       "      <td>False</td>\n",
       "      <td>POINT (-79.42004 43.79800)</td>\n",
       "    </tr>\n",
       "    <tr>\n",
       "      <th>5</th>\n",
       "      <td>2014</td>\n",
       "      <td>1</td>\n",
       "      <td>3</td>\n",
       "      <td>Friday</td>\n",
       "      <td>10.0</td>\n",
       "      <td>31</td>\n",
       "      <td>False</td>\n",
       "      <td>False</td>\n",
       "      <td>POINT (-79.44586 43.71415)</td>\n",
       "    </tr>\n",
       "    <tr>\n",
       "      <th>6</th>\n",
       "      <td>2014</td>\n",
       "      <td>1</td>\n",
       "      <td>3</td>\n",
       "      <td>Friday</td>\n",
       "      <td>10.0</td>\n",
       "      <td>4</td>\n",
       "      <td>False</td>\n",
       "      <td>False</td>\n",
       "      <td>POINT (-79.56666 43.71171)</td>\n",
       "    </tr>\n",
       "  </tbody>\n",
       "</table>\n",
       "</div>"
      ],
      "text/plain": [
       "   Year  Month  Date_in_Month Day_of_Week  Hour Atom  Fatalities  Injuries  \\\n",
       "1  2014      1              3      Friday  12.0   68       False     False   \n",
       "3  2014      1              3      Friday  11.0   79       False     False   \n",
       "4  2014      1              3      Friday  13.0   50       False     False   \n",
       "5  2014      1              3      Friday  10.0   31       False     False   \n",
       "6  2014      1              3      Friday  10.0    4       False     False   \n",
       "\n",
       "                     geometry  \n",
       "1  POINT (-79.35389 43.67049)  \n",
       "3  POINT (-79.40207 43.66305)  \n",
       "4  POINT (-79.42004 43.79800)  \n",
       "5  POINT (-79.44586 43.71415)  \n",
       "6  POINT (-79.56666 43.71171)  "
      ]
     },
     "execution_count": 14,
     "metadata": {},
     "output_type": "execute_result"
    }
   ],
   "source": [
    "collisions_gdf.head()"
   ]
  },
  {
   "cell_type": "markdown",
   "id": "23f76b9f",
   "metadata": {},
   "source": [
    "## Neighbourhood"
   ]
  },
  {
   "cell_type": "code",
   "execution_count": null,
   "id": "5453154a",
   "metadata": {},
   "outputs": [],
   "source": []
  }
 ],
 "metadata": {
  "kernelspec": {
   "display_name": "Python 3 (ipykernel)",
   "language": "python",
   "name": "python3"
  },
  "language_info": {
   "codemirror_mode": {
    "name": "ipython",
    "version": 3
   },
   "file_extension": ".py",
   "mimetype": "text/x-python",
   "name": "python",
   "nbconvert_exporter": "python",
   "pygments_lexer": "ipython3",
   "version": "3.11.5"
  }
 },
 "nbformat": 4,
 "nbformat_minor": 5
}
