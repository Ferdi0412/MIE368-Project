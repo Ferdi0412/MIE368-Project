{
 "cells": [
  {
   "cell_type": "code",
   "execution_count": 42,
   "id": "9c62e366",
   "metadata": {},
   "outputs": [],
   "source": [
    "import geopandas\n",
    "import os\n",
    "import pandas\n",
    "import shapely"
   ]
  },
  {
   "cell_type": "code",
   "execution_count": 49,
   "id": "f97f5ee9",
   "metadata": {},
   "outputs": [
    {
     "ename": "SyntaxError",
     "evalue": "invalid syntax (823119804.py, line 1)",
     "output_type": "error",
     "traceback": [
      "\u001b[1;36m  Cell \u001b[1;32mIn[49], line 1\u001b[1;36m\u001b[0m\n\u001b[1;33m    from .data-handling.neighbourhood import get_neighbourhoods\u001b[0m\n\u001b[1;37m              ^\u001b[0m\n\u001b[1;31mSyntaxError\u001b[0m\u001b[1;31m:\u001b[0m invalid syntax\n"
     ]
    }
   ],
   "source": [
    "from .data-handling.neighbourhood import get_neighbourhoods"
   ]
  },
  {
   "cell_type": "code",
   "execution_count": 2,
   "id": "c6759e3f",
   "metadata": {},
   "outputs": [],
   "source": [
    "curr_dir = os.path.abspath('')\n",
    "main_dir = os.path.dirname(curr_dir)\n",
    "raw_data_dir = os.path.join(main_dir, 'raw-data')\n",
    "target_dir   = os.path.join(main_dir, 'context-data')"
   ]
  },
  {
   "cell_type": "code",
   "execution_count": 3,
   "id": "5b4dbd3f",
   "metadata": {},
   "outputs": [],
   "source": [
    "gdf = geopandas.read_file(os.path.join(raw_data_dir, \"Neighbourhoods - 4326.geojson\"))"
   ]
  },
  {
   "cell_type": "code",
   "execution_count": 4,
   "id": "df086298",
   "metadata": {},
   "outputs": [
    {
     "data": {
      "text/html": [
       "<div>\n",
       "<style scoped>\n",
       "    .dataframe tbody tr th:only-of-type {\n",
       "        vertical-align: middle;\n",
       "    }\n",
       "\n",
       "    .dataframe tbody tr th {\n",
       "        vertical-align: top;\n",
       "    }\n",
       "\n",
       "    .dataframe thead th {\n",
       "        text-align: right;\n",
       "    }\n",
       "</style>\n",
       "<table border=\"1\" class=\"dataframe\">\n",
       "  <thead>\n",
       "    <tr style=\"text-align: right;\">\n",
       "      <th></th>\n",
       "      <th>_id</th>\n",
       "      <th>AREA_ID</th>\n",
       "      <th>AREA_ATTR_ID</th>\n",
       "      <th>PARENT_AREA_ID</th>\n",
       "      <th>AREA_SHORT_CODE</th>\n",
       "      <th>AREA_LONG_CODE</th>\n",
       "      <th>AREA_NAME</th>\n",
       "      <th>AREA_DESC</th>\n",
       "      <th>CLASSIFICATION</th>\n",
       "      <th>CLASSIFICATION_CODE</th>\n",
       "      <th>OBJECTID</th>\n",
       "      <th>geometry</th>\n",
       "    </tr>\n",
       "  </thead>\n",
       "  <tbody>\n",
       "    <tr>\n",
       "      <th>0</th>\n",
       "      <td>1</td>\n",
       "      <td>2502366</td>\n",
       "      <td>26022881</td>\n",
       "      <td>0</td>\n",
       "      <td>174</td>\n",
       "      <td>174</td>\n",
       "      <td>South Eglinton-Davisville</td>\n",
       "      <td>South Eglinton-Davisville (174)</td>\n",
       "      <td>Not an NIA or Emerging Neighbourhood</td>\n",
       "      <td>NA</td>\n",
       "      <td>17824737.0</td>\n",
       "      <td>MULTIPOLYGON (((-79.38635 43.69783, -79.38623 ...</td>\n",
       "    </tr>\n",
       "    <tr>\n",
       "      <th>1</th>\n",
       "      <td>2</td>\n",
       "      <td>2502365</td>\n",
       "      <td>26022880</td>\n",
       "      <td>0</td>\n",
       "      <td>173</td>\n",
       "      <td>173</td>\n",
       "      <td>North Toronto</td>\n",
       "      <td>North Toronto (173)</td>\n",
       "      <td>Not an NIA or Emerging Neighbourhood</td>\n",
       "      <td>NA</td>\n",
       "      <td>17824753.0</td>\n",
       "      <td>MULTIPOLYGON (((-79.39744 43.70693, -79.39837 ...</td>\n",
       "    </tr>\n",
       "    <tr>\n",
       "      <th>2</th>\n",
       "      <td>3</td>\n",
       "      <td>2502364</td>\n",
       "      <td>26022879</td>\n",
       "      <td>0</td>\n",
       "      <td>172</td>\n",
       "      <td>172</td>\n",
       "      <td>Dovercourt Village</td>\n",
       "      <td>Dovercourt Village (172)</td>\n",
       "      <td>Not an NIA or Emerging Neighbourhood</td>\n",
       "      <td>NA</td>\n",
       "      <td>17824769.0</td>\n",
       "      <td>MULTIPOLYGON (((-79.43411 43.66015, -79.43537 ...</td>\n",
       "    </tr>\n",
       "    <tr>\n",
       "      <th>3</th>\n",
       "      <td>4</td>\n",
       "      <td>2502363</td>\n",
       "      <td>26022878</td>\n",
       "      <td>0</td>\n",
       "      <td>171</td>\n",
       "      <td>171</td>\n",
       "      <td>Junction-Wallace Emerson</td>\n",
       "      <td>Junction-Wallace Emerson (171)</td>\n",
       "      <td>Not an NIA or Emerging Neighbourhood</td>\n",
       "      <td>NA</td>\n",
       "      <td>17824785.0</td>\n",
       "      <td>MULTIPOLYGON (((-79.43870 43.66766, -79.43841 ...</td>\n",
       "    </tr>\n",
       "    <tr>\n",
       "      <th>4</th>\n",
       "      <td>5</td>\n",
       "      <td>2502362</td>\n",
       "      <td>26022877</td>\n",
       "      <td>0</td>\n",
       "      <td>170</td>\n",
       "      <td>170</td>\n",
       "      <td>Yonge-Bay Corridor</td>\n",
       "      <td>Yonge-Bay Corridor (170)</td>\n",
       "      <td>Not an NIA or Emerging Neighbourhood</td>\n",
       "      <td>NA</td>\n",
       "      <td>17824801.0</td>\n",
       "      <td>MULTIPOLYGON (((-79.38404 43.64497, -79.38502 ...</td>\n",
       "    </tr>\n",
       "  </tbody>\n",
       "</table>\n",
       "</div>"
      ],
      "text/plain": [
       "   _id  AREA_ID  AREA_ATTR_ID  PARENT_AREA_ID AREA_SHORT_CODE AREA_LONG_CODE  \\\n",
       "0    1  2502366      26022881               0             174            174   \n",
       "1    2  2502365      26022880               0             173            173   \n",
       "2    3  2502364      26022879               0             172            172   \n",
       "3    4  2502363      26022878               0             171            171   \n",
       "4    5  2502362      26022877               0             170            170   \n",
       "\n",
       "                   AREA_NAME                        AREA_DESC  \\\n",
       "0  South Eglinton-Davisville  South Eglinton-Davisville (174)   \n",
       "1              North Toronto              North Toronto (173)   \n",
       "2         Dovercourt Village         Dovercourt Village (172)   \n",
       "3   Junction-Wallace Emerson   Junction-Wallace Emerson (171)   \n",
       "4         Yonge-Bay Corridor         Yonge-Bay Corridor (170)   \n",
       "\n",
       "                         CLASSIFICATION CLASSIFICATION_CODE    OBJECTID  \\\n",
       "0  Not an NIA or Emerging Neighbourhood                  NA  17824737.0   \n",
       "1  Not an NIA or Emerging Neighbourhood                  NA  17824753.0   \n",
       "2  Not an NIA or Emerging Neighbourhood                  NA  17824769.0   \n",
       "3  Not an NIA or Emerging Neighbourhood                  NA  17824785.0   \n",
       "4  Not an NIA or Emerging Neighbourhood                  NA  17824801.0   \n",
       "\n",
       "                                            geometry  \n",
       "0  MULTIPOLYGON (((-79.38635 43.69783, -79.38623 ...  \n",
       "1  MULTIPOLYGON (((-79.39744 43.70693, -79.39837 ...  \n",
       "2  MULTIPOLYGON (((-79.43411 43.66015, -79.43537 ...  \n",
       "3  MULTIPOLYGON (((-79.43870 43.66766, -79.43841 ...  \n",
       "4  MULTIPOLYGON (((-79.38404 43.64497, -79.38502 ...  "
      ]
     },
     "execution_count": 4,
     "metadata": {},
     "output_type": "execute_result"
    }
   ],
   "source": [
    "gdf.head()"
   ]
  },
  {
   "cell_type": "code",
   "execution_count": 5,
   "id": "46d46896",
   "metadata": {},
   "outputs": [
    {
     "data": {
      "text/plain": [
       "CLASSIFICATION\n",
       "Not an NIA or Emerging Neighbourhood    115\n",
       "Neighbourhood Improvement Area           33\n",
       "Emerging Neighbourhood                   10\n",
       "Name: count, dtype: int64"
      ]
     },
     "execution_count": 5,
     "metadata": {},
     "output_type": "execute_result"
    }
   ],
   "source": [
    "gdf.CLASSIFICATION.value_counts()"
   ]
  },
  {
   "cell_type": "code",
   "execution_count": 9,
   "id": "700d376c",
   "metadata": {},
   "outputs": [
    {
     "data": {
      "text/plain": [
       "CLASSIFICATION_CODE\n",
       "NA     115\n",
       "NIA     33\n",
       "EN      10\n",
       "Name: count, dtype: int64"
      ]
     },
     "execution_count": 9,
     "metadata": {},
     "output_type": "execute_result"
    }
   ],
   "source": [
    "gdf.CLASSIFICATION_CODE.value_counts()"
   ]
  },
  {
   "cell_type": "code",
   "execution_count": 6,
   "id": "ccfff214",
   "metadata": {},
   "outputs": [],
   "source": [
    "gdf['AREA_CODE'] = gdf['AREA_SHORT_CODE'].astype(int)\n",
    "gdf = gdf[['AREA_CODE', 'AREA_NAME', 'CLASSIFICATION_CODE', 'geometry']]"
   ]
  },
  {
   "cell_type": "code",
   "execution_count": 7,
   "id": "bdceaba7",
   "metadata": {},
   "outputs": [],
   "source": [
    "gdf = gdf.set_index('AREA_CODE')"
   ]
  },
  {
   "cell_type": "code",
   "execution_count": 8,
   "id": "8b8ef596",
   "metadata": {},
   "outputs": [
    {
     "data": {
      "text/html": [
       "<div>\n",
       "<style scoped>\n",
       "    .dataframe tbody tr th:only-of-type {\n",
       "        vertical-align: middle;\n",
       "    }\n",
       "\n",
       "    .dataframe tbody tr th {\n",
       "        vertical-align: top;\n",
       "    }\n",
       "\n",
       "    .dataframe thead th {\n",
       "        text-align: right;\n",
       "    }\n",
       "</style>\n",
       "<table border=\"1\" class=\"dataframe\">\n",
       "  <thead>\n",
       "    <tr style=\"text-align: right;\">\n",
       "      <th></th>\n",
       "      <th>AREA_NAME</th>\n",
       "      <th>CLASSIFICATION_CODE</th>\n",
       "      <th>geometry</th>\n",
       "    </tr>\n",
       "    <tr>\n",
       "      <th>AREA_CODE</th>\n",
       "      <th></th>\n",
       "      <th></th>\n",
       "      <th></th>\n",
       "    </tr>\n",
       "  </thead>\n",
       "  <tbody>\n",
       "    <tr>\n",
       "      <th>174</th>\n",
       "      <td>South Eglinton-Davisville</td>\n",
       "      <td>NA</td>\n",
       "      <td>MULTIPOLYGON (((-79.38635 43.69783, -79.38623 ...</td>\n",
       "    </tr>\n",
       "    <tr>\n",
       "      <th>173</th>\n",
       "      <td>North Toronto</td>\n",
       "      <td>NA</td>\n",
       "      <td>MULTIPOLYGON (((-79.39744 43.70693, -79.39837 ...</td>\n",
       "    </tr>\n",
       "    <tr>\n",
       "      <th>172</th>\n",
       "      <td>Dovercourt Village</td>\n",
       "      <td>NA</td>\n",
       "      <td>MULTIPOLYGON (((-79.43411 43.66015, -79.43537 ...</td>\n",
       "    </tr>\n",
       "    <tr>\n",
       "      <th>171</th>\n",
       "      <td>Junction-Wallace Emerson</td>\n",
       "      <td>NA</td>\n",
       "      <td>MULTIPOLYGON (((-79.43870 43.66766, -79.43841 ...</td>\n",
       "    </tr>\n",
       "    <tr>\n",
       "      <th>170</th>\n",
       "      <td>Yonge-Bay Corridor</td>\n",
       "      <td>NA</td>\n",
       "      <td>MULTIPOLYGON (((-79.38404 43.64497, -79.38502 ...</td>\n",
       "    </tr>\n",
       "  </tbody>\n",
       "</table>\n",
       "</div>"
      ],
      "text/plain": [
       "                           AREA_NAME CLASSIFICATION_CODE  \\\n",
       "AREA_CODE                                                  \n",
       "174        South Eglinton-Davisville                  NA   \n",
       "173                    North Toronto                  NA   \n",
       "172               Dovercourt Village                  NA   \n",
       "171         Junction-Wallace Emerson                  NA   \n",
       "170               Yonge-Bay Corridor                  NA   \n",
       "\n",
       "                                                    geometry  \n",
       "AREA_CODE                                                     \n",
       "174        MULTIPOLYGON (((-79.38635 43.69783, -79.38623 ...  \n",
       "173        MULTIPOLYGON (((-79.39744 43.70693, -79.39837 ...  \n",
       "172        MULTIPOLYGON (((-79.43411 43.66015, -79.43537 ...  \n",
       "171        MULTIPOLYGON (((-79.43870 43.66766, -79.43841 ...  \n",
       "170        MULTIPOLYGON (((-79.38404 43.64497, -79.38502 ...  "
      ]
     },
     "execution_count": 8,
     "metadata": {},
     "output_type": "execute_result"
    }
   ],
   "source": [
    "gdf.head()"
   ]
  },
  {
   "cell_type": "code",
   "execution_count": 28,
   "id": "2ac56d46",
   "metadata": {},
   "outputs": [],
   "source": [
    "gdf.to_file(os.path.join(target_dir, \"Neighbourhood.geojson\")) # , geometry=\"AS_WKT\""
   ]
  },
  {
   "cell_type": "code",
   "execution_count": 30,
   "id": "b8cd8513",
   "metadata": {},
   "outputs": [],
   "source": [
    "pandas.DataFrame(gdf).to_csv(os.path.join(target_dir, \"Neighbourhood.csv\"))"
   ]
  },
  {
   "cell_type": "code",
   "execution_count": 32,
   "id": "c5334491",
   "metadata": {},
   "outputs": [],
   "source": [
    "df = pandas.read_csv(os.path.join(target_dir, \"Neighbourhood.csv\"))"
   ]
  },
  {
   "cell_type": "code",
   "execution_count": 46,
   "id": "49d21a36",
   "metadata": {},
   "outputs": [],
   "source": [
    "gdf_2 = geopandas.GeoDataFrame(df.drop('geometry', axis = 1), geometry = df['geometry'].apply(shapely.wkt.loads))"
   ]
  }
 ],
 "metadata": {
  "kernelspec": {
   "display_name": "Python 3 (ipykernel)",
   "language": "python",
   "name": "python3"
  },
  "language_info": {
   "codemirror_mode": {
    "name": "ipython",
    "version": 3
   },
   "file_extension": ".py",
   "mimetype": "text/x-python",
   "name": "python",
   "nbconvert_exporter": "python",
   "pygments_lexer": "ipython3",
   "version": "3.11.5"
  }
 },
 "nbformat": 4,
 "nbformat_minor": 5
}
